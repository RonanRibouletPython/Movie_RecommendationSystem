{
 "cells": [
  {
   "cell_type": "markdown",
   "metadata": {},
   "source": [
    "Movie recommandation system project"
   ]
  },
  {
   "cell_type": "markdown",
   "metadata": {},
   "source": [
    "Aim of the project:\n",
    "- Build a recommendation system using Machine Learning"
   ]
  },
  {
   "cell_type": "markdown",
   "metadata": {},
   "source": [
    "1. Problem statement\\\n",
    "Our goal is to build a recommendation system displaying the 5 most accurate recommended movies from a list of 10 000 according to a movie typed by the user"
   ]
  },
  {
   "cell_type": "markdown",
   "metadata": {},
   "source": [
    "\n",
    "The data set includes information about:\n",
    "- Information about the 10 000 movies (title, lenght...)\n",
    "- The popularity of the movie\n",
    "- The overview of the movie"
   ]
  },
  {
   "cell_type": "markdown",
   "metadata": {},
   "source": [
    "2. Data collection"
   ]
  },
  {
   "cell_type": "code",
   "execution_count": 1,
   "metadata": {},
   "outputs": [],
   "source": [
    "import pandas as pd\n",
    "import numpy as np\n",
    "import seaborn as sns\n",
    "import matplotlib.pyplot as plt\n",
    "import sklearn\n",
    "import warnings\n",
    "warnings.filterwarnings('ignore')"
   ]
  },
  {
   "cell_type": "code",
   "execution_count": 2,
   "metadata": {},
   "outputs": [],
   "source": [
    "movies_df = pd.read_csv(\"..\\\\content\\\\top10K-TMDB-movies.csv\")"
   ]
  },
  {
   "cell_type": "code",
   "execution_count": 3,
   "metadata": {},
   "outputs": [
    {
     "data": {
      "text/html": [
       "<div>\n",
       "<style scoped>\n",
       "    .dataframe tbody tr th:only-of-type {\n",
       "        vertical-align: middle;\n",
       "    }\n",
       "\n",
       "    .dataframe tbody tr th {\n",
       "        vertical-align: top;\n",
       "    }\n",
       "\n",
       "    .dataframe thead th {\n",
       "        text-align: right;\n",
       "    }\n",
       "</style>\n",
       "<table border=\"1\" class=\"dataframe\">\n",
       "  <thead>\n",
       "    <tr style=\"text-align: right;\">\n",
       "      <th></th>\n",
       "      <th>id</th>\n",
       "      <th>title</th>\n",
       "      <th>genre</th>\n",
       "      <th>original_language</th>\n",
       "      <th>overview</th>\n",
       "      <th>popularity</th>\n",
       "      <th>release_date</th>\n",
       "      <th>vote_average</th>\n",
       "      <th>vote_count</th>\n",
       "    </tr>\n",
       "  </thead>\n",
       "  <tbody>\n",
       "    <tr>\n",
       "      <th>0</th>\n",
       "      <td>278</td>\n",
       "      <td>The Shawshank Redemption</td>\n",
       "      <td>Drama,Crime</td>\n",
       "      <td>en</td>\n",
       "      <td>Framed in the 1940s for the double murder of h...</td>\n",
       "      <td>94.075</td>\n",
       "      <td>1994-09-23</td>\n",
       "      <td>8.7</td>\n",
       "      <td>21862</td>\n",
       "    </tr>\n",
       "    <tr>\n",
       "      <th>1</th>\n",
       "      <td>19404</td>\n",
       "      <td>Dilwale Dulhania Le Jayenge</td>\n",
       "      <td>Comedy,Drama,Romance</td>\n",
       "      <td>hi</td>\n",
       "      <td>Raj is a rich, carefree, happy-go-lucky second...</td>\n",
       "      <td>25.408</td>\n",
       "      <td>1995-10-19</td>\n",
       "      <td>8.7</td>\n",
       "      <td>3731</td>\n",
       "    </tr>\n",
       "    <tr>\n",
       "      <th>2</th>\n",
       "      <td>238</td>\n",
       "      <td>The Godfather</td>\n",
       "      <td>Drama,Crime</td>\n",
       "      <td>en</td>\n",
       "      <td>Spanning the years 1945 to 1955, a chronicle o...</td>\n",
       "      <td>90.585</td>\n",
       "      <td>1972-03-14</td>\n",
       "      <td>8.7</td>\n",
       "      <td>16280</td>\n",
       "    </tr>\n",
       "    <tr>\n",
       "      <th>3</th>\n",
       "      <td>424</td>\n",
       "      <td>Schindler's List</td>\n",
       "      <td>Drama,History,War</td>\n",
       "      <td>en</td>\n",
       "      <td>The true story of how businessman Oskar Schind...</td>\n",
       "      <td>44.761</td>\n",
       "      <td>1993-12-15</td>\n",
       "      <td>8.6</td>\n",
       "      <td>12959</td>\n",
       "    </tr>\n",
       "    <tr>\n",
       "      <th>4</th>\n",
       "      <td>240</td>\n",
       "      <td>The Godfather: Part II</td>\n",
       "      <td>Drama,Crime</td>\n",
       "      <td>en</td>\n",
       "      <td>In the continuing saga of the Corleone crime f...</td>\n",
       "      <td>57.749</td>\n",
       "      <td>1974-12-20</td>\n",
       "      <td>8.6</td>\n",
       "      <td>9811</td>\n",
       "    </tr>\n",
       "  </tbody>\n",
       "</table>\n",
       "</div>"
      ],
      "text/plain": [
       "      id                        title                 genre original_language  \\\n",
       "0    278     The Shawshank Redemption           Drama,Crime                en   \n",
       "1  19404  Dilwale Dulhania Le Jayenge  Comedy,Drama,Romance                hi   \n",
       "2    238                The Godfather           Drama,Crime                en   \n",
       "3    424             Schindler's List     Drama,History,War                en   \n",
       "4    240       The Godfather: Part II           Drama,Crime                en   \n",
       "\n",
       "                                            overview  popularity release_date  \\\n",
       "0  Framed in the 1940s for the double murder of h...      94.075   1994-09-23   \n",
       "1  Raj is a rich, carefree, happy-go-lucky second...      25.408   1995-10-19   \n",
       "2  Spanning the years 1945 to 1955, a chronicle o...      90.585   1972-03-14   \n",
       "3  The true story of how businessman Oskar Schind...      44.761   1993-12-15   \n",
       "4  In the continuing saga of the Corleone crime f...      57.749   1974-12-20   \n",
       "\n",
       "   vote_average  vote_count  \n",
       "0           8.7       21862  \n",
       "1           8.7        3731  \n",
       "2           8.7       16280  \n",
       "3           8.6       12959  \n",
       "4           8.6        9811  "
      ]
     },
     "execution_count": 3,
     "metadata": {},
     "output_type": "execute_result"
    }
   ],
   "source": [
    "movies_df.head(5)"
   ]
  },
  {
   "cell_type": "markdown",
   "metadata": {},
   "source": [
    "2.2 Dataset information"
   ]
  },
  {
   "cell_type": "code",
   "execution_count": 4,
   "metadata": {},
   "outputs": [
    {
     "data": {
      "text/plain": [
       "Index(['id', 'title', 'genre', 'original_language', 'overview', 'popularity',\n",
       "       'release_date', 'vote_average', 'vote_count'],\n",
       "      dtype='object')"
      ]
     },
     "execution_count": 4,
     "metadata": {},
     "output_type": "execute_result"
    }
   ],
   "source": [
    "\n",
    "# Display the titles of the columns\n",
    "movies_df.keys()"
   ]
  },
  {
   "cell_type": "markdown",
   "metadata": {},
   "source": [
    "Feature Summary:\n",
    "- id: MOvie's unique identification number\n",
    "- title: Title of the movie\n",
    "- genre: One or multiple genre of the movie\n",
    "- original_language: language of the movie's OV\n",
    "- overview: Summary of the movie's intrigue\n",
    "- popularity: Popularity of the movie\n",
    "- release_date: Release date of the movie\n",
    "- vote_average: Average of the note given to the movie by critiques\n",
    "- vote_count: number of votes"
   ]
  },
  {
   "cell_type": "code",
   "execution_count": 5,
   "metadata": {},
   "outputs": [
    {
     "data": {
      "text/plain": [
       "(10000, 9)"
      ]
     },
     "execution_count": 5,
     "metadata": {},
     "output_type": "execute_result"
    }
   ],
   "source": [
    "movies_df.shape"
   ]
  },
  {
   "cell_type": "markdown",
   "metadata": {},
   "source": [
    "There are indeed 10 000 columns for the 10 000 movies"
   ]
  },
  {
   "cell_type": "markdown",
   "metadata": {},
   "source": [
    "3. Data checks"
   ]
  },
  {
   "cell_type": "markdown",
   "metadata": {},
   "source": [
    "3.1 Check missing values"
   ]
  },
  {
   "cell_type": "code",
   "execution_count": 6,
   "metadata": {},
   "outputs": [
    {
     "data": {
      "text/plain": [
       "id                    0\n",
       "title                 0\n",
       "genre                 3\n",
       "original_language     0\n",
       "overview             13\n",
       "popularity            0\n",
       "release_date          0\n",
       "vote_average          0\n",
       "vote_count            0\n",
       "dtype: int64"
      ]
     },
     "execution_count": 6,
     "metadata": {},
     "output_type": "execute_result"
    }
   ],
   "source": [
    "# Count missing values (null)\n",
    "movies_df.isnull().sum()"
   ]
  },
  {
   "cell_type": "code",
   "execution_count": 7,
   "metadata": {},
   "outputs": [
    {
     "data": {
      "text/html": [
       "<div>\n",
       "<style scoped>\n",
       "    .dataframe tbody tr th:only-of-type {\n",
       "        vertical-align: middle;\n",
       "    }\n",
       "\n",
       "    .dataframe tbody tr th {\n",
       "        vertical-align: top;\n",
       "    }\n",
       "\n",
       "    .dataframe thead th {\n",
       "        text-align: right;\n",
       "    }\n",
       "</style>\n",
       "<table border=\"1\" class=\"dataframe\">\n",
       "  <thead>\n",
       "    <tr style=\"text-align: right;\">\n",
       "      <th></th>\n",
       "      <th>id</th>\n",
       "      <th>title</th>\n",
       "      <th>genre</th>\n",
       "      <th>original_language</th>\n",
       "      <th>overview</th>\n",
       "      <th>popularity</th>\n",
       "      <th>release_date</th>\n",
       "      <th>vote_average</th>\n",
       "      <th>vote_count</th>\n",
       "    </tr>\n",
       "  </thead>\n",
       "  <tbody>\n",
       "    <tr>\n",
       "      <th>3361</th>\n",
       "      <td>50472</td>\n",
       "      <td>Anplagghed al cinema</td>\n",
       "      <td>NaN</td>\n",
       "      <td>it</td>\n",
       "      <td>A queue at the ATM machine, a displaced family...</td>\n",
       "      <td>4.420</td>\n",
       "      <td>2006-11-26</td>\n",
       "      <td>7.0</td>\n",
       "      <td>313</td>\n",
       "    </tr>\n",
       "    <tr>\n",
       "      <th>4150</th>\n",
       "      <td>38537</td>\n",
       "      <td>Nati stanchi</td>\n",
       "      <td>Comedy</td>\n",
       "      <td>it</td>\n",
       "      <td>NaN</td>\n",
       "      <td>5.671</td>\n",
       "      <td>2002-03-01</td>\n",
       "      <td>6.8</td>\n",
       "      <td>211</td>\n",
       "    </tr>\n",
       "    <tr>\n",
       "      <th>6973</th>\n",
       "      <td>31359</td>\n",
       "      <td>Would I Lie to You? 2</td>\n",
       "      <td>Comedy</td>\n",
       "      <td>fr</td>\n",
       "      <td>NaN</td>\n",
       "      <td>4.741</td>\n",
       "      <td>2001-02-07</td>\n",
       "      <td>6.2</td>\n",
       "      <td>325</td>\n",
       "    </tr>\n",
       "    <tr>\n",
       "      <th>7821</th>\n",
       "      <td>43211</td>\n",
       "      <td>7 Kilos in 7 Days</td>\n",
       "      <td>NaN</td>\n",
       "      <td>it</td>\n",
       "      <td>Two not very clever young doctors open a fitne...</td>\n",
       "      <td>5.885</td>\n",
       "      <td>1986-02-02</td>\n",
       "      <td>6.0</td>\n",
       "      <td>212</td>\n",
       "    </tr>\n",
       "    <tr>\n",
       "      <th>7941</th>\n",
       "      <td>2029</td>\n",
       "      <td>Tanguy</td>\n",
       "      <td>Comedy</td>\n",
       "      <td>fr</td>\n",
       "      <td>NaN</td>\n",
       "      <td>5.449</td>\n",
       "      <td>2001-11-21</td>\n",
       "      <td>6.0</td>\n",
       "      <td>387</td>\n",
       "    </tr>\n",
       "    <tr>\n",
       "      <th>8518</th>\n",
       "      <td>57114</td>\n",
       "      <td>Amore, bugie e calcetto</td>\n",
       "      <td>NaN</td>\n",
       "      <td>en</td>\n",
       "      <td>NaN</td>\n",
       "      <td>4.709</td>\n",
       "      <td>2008-04-04</td>\n",
       "      <td>5.8</td>\n",
       "      <td>200</td>\n",
       "    </tr>\n",
       "    <tr>\n",
       "      <th>9293</th>\n",
       "      <td>17413</td>\n",
       "      <td>Incognito</td>\n",
       "      <td>Comedy</td>\n",
       "      <td>fr</td>\n",
       "      <td>NaN</td>\n",
       "      <td>5.602</td>\n",
       "      <td>2009-04-28</td>\n",
       "      <td>5.5</td>\n",
       "      <td>213</td>\n",
       "    </tr>\n",
       "    <tr>\n",
       "      <th>9440</th>\n",
       "      <td>516043</td>\n",
       "      <td>Arrivano i prof</td>\n",
       "      <td>Comedy</td>\n",
       "      <td>it</td>\n",
       "      <td>NaN</td>\n",
       "      <td>6.558</td>\n",
       "      <td>2018-05-01</td>\n",
       "      <td>5.4</td>\n",
       "      <td>337</td>\n",
       "    </tr>\n",
       "    <tr>\n",
       "      <th>9620</th>\n",
       "      <td>154512</td>\n",
       "      <td>Lightning Strike</td>\n",
       "      <td>Comedy</td>\n",
       "      <td>it</td>\n",
       "      <td>NaN</td>\n",
       "      <td>4.070</td>\n",
       "      <td>2012-12-13</td>\n",
       "      <td>5.3</td>\n",
       "      <td>216</td>\n",
       "    </tr>\n",
       "    <tr>\n",
       "      <th>9792</th>\n",
       "      <td>42426</td>\n",
       "      <td>A spasso nel tempo - L'avventura continua</td>\n",
       "      <td>Comedy,Fantasy</td>\n",
       "      <td>it</td>\n",
       "      <td>NaN</td>\n",
       "      <td>5.020</td>\n",
       "      <td>1997-12-11</td>\n",
       "      <td>5.1</td>\n",
       "      <td>209</td>\n",
       "    </tr>\n",
       "    <tr>\n",
       "      <th>9825</th>\n",
       "      <td>77000</td>\n",
       "      <td>Bar Sport</td>\n",
       "      <td>Comedy,Family</td>\n",
       "      <td>it</td>\n",
       "      <td>NaN</td>\n",
       "      <td>4.123</td>\n",
       "      <td>2011-10-21</td>\n",
       "      <td>5.0</td>\n",
       "      <td>205</td>\n",
       "    </tr>\n",
       "    <tr>\n",
       "      <th>9889</th>\n",
       "      <td>42436</td>\n",
       "      <td>Natale in crociera</td>\n",
       "      <td>Comedy</td>\n",
       "      <td>it</td>\n",
       "      <td>NaN</td>\n",
       "      <td>5.330</td>\n",
       "      <td>2007-12-14</td>\n",
       "      <td>4.9</td>\n",
       "      <td>364</td>\n",
       "    </tr>\n",
       "    <tr>\n",
       "      <th>9915</th>\n",
       "      <td>57216</td>\n",
       "      <td>A Natale mi sposo</td>\n",
       "      <td>Comedy</td>\n",
       "      <td>it</td>\n",
       "      <td>NaN</td>\n",
       "      <td>4.349</td>\n",
       "      <td>2010-11-26</td>\n",
       "      <td>4.9</td>\n",
       "      <td>202</td>\n",
       "    </tr>\n",
       "    <tr>\n",
       "      <th>9922</th>\n",
       "      <td>408238</td>\n",
       "      <td>The New Adventures of Cinderella</td>\n",
       "      <td>Comedy</td>\n",
       "      <td>fr</td>\n",
       "      <td>NaN</td>\n",
       "      <td>7.102</td>\n",
       "      <td>2017-10-18</td>\n",
       "      <td>4.8</td>\n",
       "      <td>227</td>\n",
       "    </tr>\n",
       "    <tr>\n",
       "      <th>9989</th>\n",
       "      <td>244514</td>\n",
       "      <td>Colpi di fortuna</td>\n",
       "      <td>Comedy</td>\n",
       "      <td>it</td>\n",
       "      <td>NaN</td>\n",
       "      <td>5.821</td>\n",
       "      <td>2013-12-21</td>\n",
       "      <td>4.7</td>\n",
       "      <td>214</td>\n",
       "    </tr>\n",
       "  </tbody>\n",
       "</table>\n",
       "</div>"
      ],
      "text/plain": [
       "          id                                      title           genre  \\\n",
       "3361   50472                       Anplagghed al cinema             NaN   \n",
       "4150   38537                               Nati stanchi          Comedy   \n",
       "6973   31359                      Would I Lie to You? 2          Comedy   \n",
       "7821   43211                          7 Kilos in 7 Days             NaN   \n",
       "7941    2029                                     Tanguy          Comedy   \n",
       "8518   57114                    Amore, bugie e calcetto             NaN   \n",
       "9293   17413                                  Incognito          Comedy   \n",
       "9440  516043                            Arrivano i prof          Comedy   \n",
       "9620  154512                           Lightning Strike          Comedy   \n",
       "9792   42426  A spasso nel tempo - L'avventura continua  Comedy,Fantasy   \n",
       "9825   77000                                  Bar Sport   Comedy,Family   \n",
       "9889   42436                         Natale in crociera          Comedy   \n",
       "9915   57216                          A Natale mi sposo          Comedy   \n",
       "9922  408238           The New Adventures of Cinderella          Comedy   \n",
       "9989  244514                           Colpi di fortuna          Comedy   \n",
       "\n",
       "     original_language                                           overview  \\\n",
       "3361                it  A queue at the ATM machine, a displaced family...   \n",
       "4150                it                                                NaN   \n",
       "6973                fr                                                NaN   \n",
       "7821                it  Two not very clever young doctors open a fitne...   \n",
       "7941                fr                                                NaN   \n",
       "8518                en                                                NaN   \n",
       "9293                fr                                                NaN   \n",
       "9440                it                                                NaN   \n",
       "9620                it                                                NaN   \n",
       "9792                it                                                NaN   \n",
       "9825                it                                                NaN   \n",
       "9889                it                                                NaN   \n",
       "9915                it                                                NaN   \n",
       "9922                fr                                                NaN   \n",
       "9989                it                                                NaN   \n",
       "\n",
       "      popularity release_date  vote_average  vote_count  \n",
       "3361       4.420   2006-11-26           7.0         313  \n",
       "4150       5.671   2002-03-01           6.8         211  \n",
       "6973       4.741   2001-02-07           6.2         325  \n",
       "7821       5.885   1986-02-02           6.0         212  \n",
       "7941       5.449   2001-11-21           6.0         387  \n",
       "8518       4.709   2008-04-04           5.8         200  \n",
       "9293       5.602   2009-04-28           5.5         213  \n",
       "9440       6.558   2018-05-01           5.4         337  \n",
       "9620       4.070   2012-12-13           5.3         216  \n",
       "9792       5.020   1997-12-11           5.1         209  \n",
       "9825       4.123   2011-10-21           5.0         205  \n",
       "9889       5.330   2007-12-14           4.9         364  \n",
       "9915       4.349   2010-11-26           4.9         202  \n",
       "9922       7.102   2017-10-18           4.8         227  \n",
       "9989       5.821   2013-12-21           4.7         214  "
      ]
     },
     "execution_count": 7,
     "metadata": {},
     "output_type": "execute_result"
    }
   ],
   "source": [
    "# Display the missing values\n",
    "null_data = movies_df[movies_df.isnull().any(axis=1)]\n",
    "null_data"
   ]
  },
  {
   "cell_type": "markdown",
   "metadata": {},
   "source": [
    "Since we don't have so much missing values we can make some research and try to fill in the blanks for the genre"
   ]
  },
  {
   "cell_type": "code",
   "execution_count": 8,
   "metadata": {},
   "outputs": [],
   "source": [
    "movies_df[\"genre\"][3361]=\"Comedy\"\n",
    "movies_df[\"genre\"][8518]=\"Comedy\"\n",
    "movies_df[\"genre\"][7821]=\"Comedy\""
   ]
  },
  {
   "cell_type": "code",
   "execution_count": 9,
   "metadata": {},
   "outputs": [
    {
     "data": {
      "text/html": [
       "<div>\n",
       "<style scoped>\n",
       "    .dataframe tbody tr th:only-of-type {\n",
       "        vertical-align: middle;\n",
       "    }\n",
       "\n",
       "    .dataframe tbody tr th {\n",
       "        vertical-align: top;\n",
       "    }\n",
       "\n",
       "    .dataframe thead th {\n",
       "        text-align: right;\n",
       "    }\n",
       "</style>\n",
       "<table border=\"1\" class=\"dataframe\">\n",
       "  <thead>\n",
       "    <tr style=\"text-align: right;\">\n",
       "      <th></th>\n",
       "      <th>id</th>\n",
       "      <th>title</th>\n",
       "      <th>genre</th>\n",
       "      <th>original_language</th>\n",
       "      <th>overview</th>\n",
       "      <th>popularity</th>\n",
       "      <th>release_date</th>\n",
       "      <th>vote_average</th>\n",
       "      <th>vote_count</th>\n",
       "    </tr>\n",
       "  </thead>\n",
       "  <tbody>\n",
       "    <tr>\n",
       "      <th>7821</th>\n",
       "      <td>43211</td>\n",
       "      <td>7 Kilos in 7 Days</td>\n",
       "      <td>Comedy</td>\n",
       "      <td>it</td>\n",
       "      <td>Two not very clever young doctors open a fitne...</td>\n",
       "      <td>5.885</td>\n",
       "      <td>1986-02-02</td>\n",
       "      <td>6.0</td>\n",
       "      <td>212</td>\n",
       "    </tr>\n",
       "  </tbody>\n",
       "</table>\n",
       "</div>"
      ],
      "text/plain": [
       "         id              title   genre original_language  \\\n",
       "7821  43211  7 Kilos in 7 Days  Comedy                it   \n",
       "\n",
       "                                               overview  popularity  \\\n",
       "7821  Two not very clever young doctors open a fitne...       5.885   \n",
       "\n",
       "     release_date  vote_average  vote_count  \n",
       "7821   1986-02-02           6.0         212  "
      ]
     },
     "execution_count": 9,
     "metadata": {},
     "output_type": "execute_result"
    }
   ],
   "source": [
    "movies_df.loc[[7821]]"
   ]
  },
  {
   "cell_type": "markdown",
   "metadata": {},
   "source": [
    "We can drop the movies without overviews because it will take too much time to search for every one of them"
   ]
  },
  {
   "cell_type": "code",
   "execution_count": 10,
   "metadata": {},
   "outputs": [],
   "source": [
    "movies_df = movies_df.dropna(axis=0)"
   ]
  },
  {
   "cell_type": "markdown",
   "metadata": {},
   "source": [
    "3.2 Check for duplicates"
   ]
  },
  {
   "cell_type": "code",
   "execution_count": 11,
   "metadata": {},
   "outputs": [
    {
     "data": {
      "text/plain": [
       "0"
      ]
     },
     "execution_count": 11,
     "metadata": {},
     "output_type": "execute_result"
    }
   ],
   "source": [
    "movies_df.duplicated().sum()"
   ]
  },
  {
   "cell_type": "code",
   "execution_count": 12,
   "metadata": {},
   "outputs": [
    {
     "data": {
      "text/html": [
       "<div>\n",
       "<style scoped>\n",
       "    .dataframe tbody tr th:only-of-type {\n",
       "        vertical-align: middle;\n",
       "    }\n",
       "\n",
       "    .dataframe tbody tr th {\n",
       "        vertical-align: top;\n",
       "    }\n",
       "\n",
       "    .dataframe thead th {\n",
       "        text-align: right;\n",
       "    }\n",
       "</style>\n",
       "<table border=\"1\" class=\"dataframe\">\n",
       "  <thead>\n",
       "    <tr style=\"text-align: right;\">\n",
       "      <th></th>\n",
       "      <th>id</th>\n",
       "      <th>title</th>\n",
       "      <th>genre</th>\n",
       "      <th>original_language</th>\n",
       "      <th>overview</th>\n",
       "      <th>popularity</th>\n",
       "      <th>release_date</th>\n",
       "      <th>vote_average</th>\n",
       "      <th>vote_count</th>\n",
       "    </tr>\n",
       "  </thead>\n",
       "  <tbody>\n",
       "  </tbody>\n",
       "</table>\n",
       "</div>"
      ],
      "text/plain": [
       "Empty DataFrame\n",
       "Columns: [id, title, genre, original_language, overview, popularity, release_date, vote_average, vote_count]\n",
       "Index: []"
      ]
     },
     "execution_count": 12,
     "metadata": {},
     "output_type": "execute_result"
    }
   ],
   "source": [
    "movies_df.loc[movies_df.duplicated()]"
   ]
  },
  {
   "cell_type": "markdown",
   "metadata": {},
   "source": [
    "Check the datatypes of the features"
   ]
  },
  {
   "cell_type": "code",
   "execution_count": 13,
   "metadata": {},
   "outputs": [
    {
     "name": "stdout",
     "output_type": "stream",
     "text": [
      "<class 'pandas.core.frame.DataFrame'>\n",
      "Index: 9987 entries, 0 to 9999\n",
      "Data columns (total 9 columns):\n",
      " #   Column             Non-Null Count  Dtype  \n",
      "---  ------             --------------  -----  \n",
      " 0   id                 9987 non-null   int64  \n",
      " 1   title              9987 non-null   object \n",
      " 2   genre              9987 non-null   object \n",
      " 3   original_language  9987 non-null   object \n",
      " 4   overview           9987 non-null   object \n",
      " 5   popularity         9987 non-null   float64\n",
      " 6   release_date       9987 non-null   object \n",
      " 7   vote_average       9987 non-null   float64\n",
      " 8   vote_count         9987 non-null   int64  \n",
      "dtypes: float64(2), int64(2), object(5)\n",
      "memory usage: 780.2+ KB\n"
     ]
    }
   ],
   "source": [
    "movies_df.info()"
   ]
  },
  {
   "cell_type": "markdown",
   "metadata": {},
   "source": [
    "We observe that the release date has an object type that we can convert into date type for ease "
   ]
  },
  {
   "cell_type": "markdown",
   "metadata": {},
   "source": [
    "release_date type conversion from object to date_time:"
   ]
  },
  {
   "cell_type": "code",
   "execution_count": 14,
   "metadata": {},
   "outputs": [],
   "source": [
    "movies_df[\"release_date\"] = pd.to_datetime(movies_df[\"release_date\"])"
   ]
  },
  {
   "cell_type": "markdown",
   "metadata": {},
   "source": [
    "3.4 Checking the number of unique values"
   ]
  },
  {
   "cell_type": "code",
   "execution_count": 15,
   "metadata": {},
   "outputs": [
    {
     "data": {
      "text/plain": [
       "id                   9987\n",
       "title                9648\n",
       "genre                2123\n",
       "original_language      43\n",
       "overview             9985\n",
       "popularity           8499\n",
       "release_date         6109\n",
       "vote_average           42\n",
       "vote_count           3191\n",
       "dtype: int64"
      ]
     },
     "execution_count": 15,
     "metadata": {},
     "output_type": "execute_result"
    }
   ],
   "source": [
    "movies_df.nunique()"
   ]
  },
  {
   "cell_type": "code",
   "execution_count": 16,
   "metadata": {},
   "outputs": [
    {
     "name": "stdout",
     "output_type": "stream",
     "text": [
      "True\n"
     ]
    }
   ],
   "source": [
    "print(movies_df['id'].nunique() == movies_df.shape[0])"
   ]
  },
  {
   "cell_type": "markdown",
   "metadata": {},
   "source": [
    "We just have unique values for customerID so we can drop this column which won't help the model to learn new things"
   ]
  },
  {
   "cell_type": "code",
   "execution_count": 17,
   "metadata": {},
   "outputs": [],
   "source": [
    "#movies_df = movies_df.drop([\"id\"], axis=1)"
   ]
  },
  {
   "cell_type": "code",
   "execution_count": 18,
   "metadata": {},
   "outputs": [],
   "source": [
    "clean_dataset = movies_df.to_csv(\"..\\\\content\\\\clean_dataset.csv\", index=False)"
   ]
  },
  {
   "cell_type": "markdown",
   "metadata": {},
   "source": [
    "3.5 Check statistics of data set"
   ]
  },
  {
   "cell_type": "markdown",
   "metadata": {},
   "source": [
    "4. Build a recommendation system based on the overview and genre of the movies"
   ]
  },
  {
   "cell_type": "markdown",
   "metadata": {},
   "source": [
    "4.1 Create the new dataset for this recommendation system"
   ]
  },
  {
   "cell_type": "code",
   "execution_count": null,
   "metadata": {},
   "outputs": [],
   "source": [
    "# Load the clean dataset\n",
    "\n",
    "clean_dataset = pd.read_csv(\"..\\\\content\\\\clean_dataset.csv\")\n",
    "clean_dataset.head(5)\n"
   ]
  },
  {
   "cell_type": "markdown",
   "metadata": {},
   "source": [
    "4.1.1 Create a new dataframe with the columns we want to use for the recommendation system"
   ]
  },
  {
   "cell_type": "code",
   "execution_count": null,
   "metadata": {},
   "outputs": [],
   "source": [
    "saved_col = [\"title\", \"genre\", \"overview\"]\n",
    "new_df = clean_dataset[saved_col]\n",
    "new_df.head(10)"
   ]
  },
  {
   "cell_type": "code",
   "execution_count": null,
   "metadata": {},
   "outputs": [],
   "source": [
    "new_df[\"tags\"] = new_df[\"genre\"] + \" \" + new_df[\"overview\"]"
   ]
  },
  {
   "cell_type": "code",
   "execution_count": null,
   "metadata": {},
   "outputs": [],
   "source": [
    "new_df = new_df.drop([\"genre\", \"overview\"], axis=1)"
   ]
  },
  {
   "cell_type": "code",
   "execution_count": null,
   "metadata": {},
   "outputs": [],
   "source": [
    "new_df"
   ]
  },
  {
   "cell_type": "markdown",
   "metadata": {},
   "source": [
    "4.2 Convert text to vector\\\n",
    "2 Methods:\n",
    "- Bag of words\n",
    "- TF-IDF"
   ]
  },
  {
   "cell_type": "code",
   "execution_count": null,
   "metadata": {},
   "outputs": [],
   "source": [
    "from sklearn.feature_extraction.text import CountVectorizer\n",
    "cv = CountVectorizer(max_features=9987, stop_words=\"english\", ngram_range=(1, 2))"
   ]
  },
  {
   "cell_type": "code",
   "execution_count": null,
   "metadata": {},
   "outputs": [],
   "source": [
    "vectorized_tags = cv.fit_transform(new_df[\"tags\"].values.astype(\"U\")).toarray()"
   ]
  },
  {
   "cell_type": "code",
   "execution_count": null,
   "metadata": {},
   "outputs": [],
   "source": [
    "vectorized_tags.shape"
   ]
  },
  {
   "cell_type": "code",
   "execution_count": null,
   "metadata": {},
   "outputs": [],
   "source": [
    "vectorized_tags"
   ]
  },
  {
   "cell_type": "code",
   "execution_count": null,
   "metadata": {},
   "outputs": [],
   "source": [
    "from sklearn.metrics.pairwise import cosine_similarity"
   ]
  },
  {
   "cell_type": "code",
   "execution_count": null,
   "metadata": {},
   "outputs": [],
   "source": [
    "similarity_vector = cosine_similarity(vectorized_tags)"
   ]
  },
  {
   "cell_type": "code",
   "execution_count": null,
   "metadata": {},
   "outputs": [],
   "source": [
    "similarity_vector"
   ]
  },
  {
   "cell_type": "code",
   "execution_count": null,
   "metadata": {},
   "outputs": [],
   "source": [
    "# Display the index of a movie based on its title\n",
    "class Retrieve_data():\n",
    "    def __init__(self, dataset, title):\n",
    "        self.dataset = dataset\n",
    "        self.title = title\n",
    "\n",
    "    def get_index_from_title(self):\n",
    "        try:\n",
    "            return self.dataset[self.dataset[\"title\"]==self.title].index[0]\n",
    "        except:\n",
    "            print(\"Either the movie or the dataset doesn't exist\")\n",
    "\n",
    "    def recommended_movies(self, index, number):\n",
    "\n",
    "        recommended_movies = []\n",
    "\n",
    "        self.distance = sorted(list(enumerate(similarity_vector[index])), reverse=True, key=lambda vector:vector[1])\n",
    "\n",
    "        for movies in self.distance[1:number+1]:\n",
    "            recommended_movies.append(new_df.iloc[movies[0]].title)\n",
    "        print(recommended_movies)\n"
   ]
  },
  {
   "cell_type": "code",
   "execution_count": null,
   "metadata": {},
   "outputs": [],
   "source": [
    "data_retrieved = Retrieve_data(new_df, \"Iron Man\")"
   ]
  },
  {
   "cell_type": "code",
   "execution_count": null,
   "metadata": {},
   "outputs": [],
   "source": [
    "index = data_retrieved.get_index_from_title()\n",
    "index"
   ]
  },
  {
   "cell_type": "code",
   "execution_count": null,
   "metadata": {},
   "outputs": [],
   "source": [
    "recommendations = data_retrieved.recommended_movies(index, 10)"
   ]
  },
  {
   "cell_type": "markdown",
   "metadata": {},
   "source": [
    "Save the model"
   ]
  },
  {
   "cell_type": "code",
   "execution_count": null,
   "metadata": {},
   "outputs": [],
   "source": [
    "import pickle\n",
    "# save the similarity vector\n",
    "pickle.dump(similarity_vector, open(\"similarity_vector.pkl\", \"wb\"))"
   ]
  },
  {
   "cell_type": "code",
   "execution_count": null,
   "metadata": {},
   "outputs": [],
   "source": [
    "# Save the dataset\n",
    "pickle.dump(new_df, open(\"movies.pkl\", \"wb\"))\n"
   ]
  },
  {
   "cell_type": "code",
   "execution_count": null,
   "metadata": {},
   "outputs": [],
   "source": [
    "pickle.load(open('movies.pkl', 'rb'))"
   ]
  },
  {
   "cell_type": "markdown",
   "metadata": {},
   "source": [
    "4.2.2 TF-IDF"
   ]
  },
  {
   "cell_type": "code",
   "execution_count": null,
   "metadata": {},
   "outputs": [],
   "source": [
    "from sklearn.feature_extraction.text import TfidfVectorizer\n"
   ]
  }
 ],
 "metadata": {
  "kernelspec": {
   "display_name": "Python 3",
   "language": "python",
   "name": "python3"
  },
  "language_info": {
   "codemirror_mode": {
    "name": "ipython",
    "version": 3
   },
   "file_extension": ".py",
   "mimetype": "text/x-python",
   "name": "python",
   "nbconvert_exporter": "python",
   "pygments_lexer": "ipython3",
   "version": "3.12.3"
  }
 },
 "nbformat": 4,
 "nbformat_minor": 2
}
